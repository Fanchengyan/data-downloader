{
 "cells": [
  {
   "cell_type": "markdown",
   "metadata": {},
   "source": [
    "# LiCSARService\n",
    "\n",
    "`LiCSARService` provides a simple interface to the LiCSAR online service for the retrieval of interferometric products from Sentinel-1 data. The service is provided by Centre for the Observation and Modelling of Earthquakes, Volcanoes and Tectonics (COMET) and is available at the following URL: <https://comet.nerc.ac.uk/COMET-LiCS-portal/>"
   ]
  },
  {
   "cell_type": "code",
   "execution_count": null,
   "metadata": {},
   "outputs": [],
   "source": [
    "from pathlib import Path\n",
    "import pandas as pd\n",
    "from data_downloader import downloader, services\n",
    "\n",
    "# specify the folder to save data\n",
    "home_dir = Path(\"/Volumes/Data/LiCSAR/106D_05248_131313/\")\n",
    "pair_dir = home_dir / \"GEOC\""
   ]
  },
  {
   "cell_type": "markdown",
   "metadata": {},
   "source": [
    "init LiCSARService by frame id and download all metadata files"
   ]
  },
  {
   "cell_type": "code",
   "execution_count": null,
   "metadata": {},
   "outputs": [],
   "source": [
    "licsar = services.LiCSARService(\"106D_05248_131313\")\n",
    "downloader.download_datas(licsar.meta_urls, folder=home_dir, desc=\"Metadata\")"
   ]
  },
  {
   "cell_type": "markdown",
   "metadata": {},
   "source": [
    "generate mask data by primary_dates, secondary_dates and day span"
   ]
  },
  {
   "cell_type": "code",
   "execution_count": null,
   "metadata": {},
   "outputs": [],
   "source": [
    "mask = (licsar.primary_dates>pd.to_datetime(\"2019-01-01\")) & (licsar.primary_dates<pd.to_datetime(\"2019-12-31\")) & (licsar.days < 12 * 5 + 1)"
   ]
  },
  {
   "cell_type": "markdown",
   "metadata": {},
   "source": [
    "download interferograms and coherence files filtered by mask"
   ]
  },
  {
   "cell_type": "code",
   "execution_count": null,
   "metadata": {},
   "outputs": [],
   "source": [
    "downloader.download_datas(\n",
    "    licsar.ifg_urls[mask].values, folder=pair_dir, desc=\"Interferogram\"\n",
    ")\n",
    "downloader.download_datas(licsar.coh_urls[mask], folder=pair_dir, desc=\"Coherence\")"
   ]
  }
 ],
 "metadata": {
  "language_info": {
   "name": "python"
  }
 },
 "nbformat": 4,
 "nbformat_minor": 2
}
