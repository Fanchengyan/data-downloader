{
 "cells": [
  {
   "cell_type": "markdown",
   "metadata": {},
   "source": [
    "# SentinelOrbit\n",
    "\n",
    "Sentinel-1 orbit data downloader."
   ]
  },
  {
   "cell_type": "code",
   "execution_count": null,
   "metadata": {},
   "outputs": [],
   "source": [
    "from data_downloader import downloader, SentinelOrbit\n",
    "from pathlib import Path"
   ]
  },
  {
   "cell_type": "code",
   "execution_count": null,
   "metadata": {},
   "outputs": [],
   "source": [
    "# specify the folder to save aux_cal\n",
    "folder_cal = Path(\"/media/data/aux_cal\")  \n",
    "# specify the folder to save aux_poeorb\n",
    "folder_preorb = Path(\"/media/data/poeorb\")  "
   ]
  },
  {
   "cell_type": "markdown",
   "metadata": {},
   "source": [
    "init SentinelOrbit:"
   ]
  },
  {
   "cell_type": "code",
   "execution_count": null,
   "metadata": {},
   "outputs": [],
   "source": [
    "s1_orbit = SentinelOrbit()"
   ]
  },
  {
   "cell_type": "markdown",
   "metadata": {},
   "source": [
    "Get all aux_cal data links of S1A and S1B and download them:"
   ]
  },
  {
   "cell_type": "code",
   "execution_count": null,
   "metadata": {},
   "outputs": [],
   "source": [
    "urls_cal = s1_orbit.cal_urls(platform=\"all\")\n",
    "downloader.async_download_datas(urls_cal, folder=folder_cal)"
   ]
  },
  {
   "cell_type": "markdown",
   "metadata": {},
   "source": [
    "Get all precise orbit data links of S1A during 20210101-20220301 and download them:"
   ]
  },
  {
   "cell_type": "code",
   "execution_count": null,
   "metadata": {},
   "outputs": [],
   "source": [
    "urls_preorb = s1_orbit.poeorb_urls(\n",
    "    date_start=\"20210101\", date_end=\"20220301\", platform=\"S1A\"\n",
    ")\n",
    "downloader.download_datas(urls_preorb, folder=folder_preorb)"
   ]
  }
 ],
 "metadata": {
  "language_info": {
   "name": "python"
  }
 },
 "nbformat": 4,
 "nbformat_minor": 2
}
