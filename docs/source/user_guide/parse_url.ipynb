{
 "cells": [
  {
   "cell_type": "markdown",
   "metadata": {},
   "source": [
    "# parse_url: Parse URLs from various sources\n",
    "\n",
    "parse_url module provides multiple functions to parse a URL. See the [parse_url](./api/parse_urls) notebook for more details."
   ]
  },
  {
   "cell_type": "markdown",
   "metadata": {},
   "source": []
  }
 ],
 "metadata": {
  "language_info": {
   "name": "python"
  }
 },
 "nbformat": 4,
 "nbformat_minor": 2
}
